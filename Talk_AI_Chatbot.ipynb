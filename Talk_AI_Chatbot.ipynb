{
  "cells": [
    {
      "cell_type": "markdown",
      "metadata": {
        "id": "Qasbw4ZHapRk"
      },
      "source": [
        "## Import and Load data file"
      ]
    },
    {
      "cell_type": "code",
      "execution_count": null,
      "metadata": {
        "colab": {
          "base_uri": "https://localhost:8080/"
        },
        "id": "_Qn7EfgAapR1",
        "outputId": "fab5a48e-f0a7-4476-b33e-6e8617c806d2"
      },
      "outputs": [
        {
          "output_type": "stream",
          "name": "stderr",
          "text": [
            "[nltk_data] Downloading package punkt to /root/nltk_data...\n",
            "[nltk_data]   Unzipping tokenizers/punkt.zip.\n",
            "[nltk_data] Downloading package wordnet to /root/nltk_data...\n"
          ]
        }
      ],
      "source": [
        "import nltk\n",
        "from nltk.stem import WordNetLemmatizer\n",
        "lemmatizer = WordNetLemmatizer()\n",
        "import json\n",
        "import pickle\n",
        "nltk.download('punkt')\n",
        "nltk.download('wordnet')\n",
        "import numpy as np\n",
        "from keras.models import Sequential\n",
        "from keras.layers import Dense, Activation, Dropout\n",
        "from keras.optimizers import SGD\n",
        "import random\n",
        "\n",
        "words=[]\n",
        "classes = []\n",
        "documents = []\n",
        "ignore_words = ['?', '!']\n",
        "data_file = open('intents.json').read()\n",
        "intents = json.loads(data_file)"
      ]
    },
    {
      "cell_type": "markdown",
      "metadata": {
        "id": "InBUtUS-apR5"
      },
      "source": [
        "## Pre-process data"
      ]
    },
    {
      "cell_type": "markdown",
      "metadata": {
        "id": "aV61SbK7apR8"
      },
      "source": [
        "Here we iterate through the patterns and tokenize the sentence using nltk.word_tokenize() function and append each word in the words list. We also create a list of classes for our tags."
      ]
    },
    {
      "cell_type": "code",
      "execution_count": null,
      "metadata": {
        "id": "7zYeceNPapSA"
      },
      "outputs": [],
      "source": [
        "for intent in intents.get('intents', []):\n",
        "    patterns = intent.get('patterns', [])\n",
        "\n",
        "    for pattern in patterns:\n",
        "        # tokenize each word\n",
        "        w = nltk.word_tokenize(pattern)\n",
        "        words.extend(w)\n",
        "\n",
        "        # add documents to the corpus\n",
        "        documents.append((w, intent.get('tag')))\n",
        "\n",
        "        # add to our classes list\n",
        "        if intent.get('tag') not in classes:\n",
        "            classes.append(intent.get('tag'))\n"
      ]
    },
    {
      "cell_type": "markdown",
      "metadata": {
        "id": "EMDg9EufapSB"
      },
      "source": [
        "lemmatize each word and remove duplicate words from the list"
      ]
    },
    {
      "cell_type": "code",
      "execution_count": null,
      "metadata": {
        "colab": {
          "base_uri": "https://localhost:8080/"
        },
        "id": "A_rnV5HoapSC",
        "outputId": "536ea9c7-122a-45c8-ce7f-5db838b163a3"
      },
      "outputs": [
        {
          "output_type": "stream",
          "name": "stdout",
          "text": [
            "315 documents\n",
            "122 classes ['ApologizingToBrother', 'ApologizingToDad', 'ApologizingToFriend', 'ApologizingToMom', 'ApologizingToSister', 'AskStudyQuestion', 'BookRecommendation', 'CelebratingBrotherAchievement', 'CelebratingDadAchievement', 'CelebratingFriendAchievement', 'CelebratingMomAchievement', 'CelebratingSisterAchievement', 'CheckStudyProgress', 'CheckingInWithAssistant', 'CheckingInWithBestFriend', 'CheeringUpBrother', 'CheeringUpDad', 'CheeringUpFriend', 'CheeringUpMom', 'CheeringUpSister', 'ChoosingFitnessActivities', 'ComplimentingCrush', 'ConversationalStarterRecommendation', 'CookingRecipeRecommendation', 'EndStudySession', 'ExpressingFeelingsToCrush', 'ExpressingGratitudeToAssistant', 'FitnessActivityRecommendation', 'FriendshipTalkRecommendation', 'GetStudyTips', 'GettingToKnowCrush', 'GreetingsToAssistant', 'IncorporatingNutritionIntoFitness', 'MovieRecommendation', 'MusicRecommendation', 'OvercomingFitnessPlateaus', 'PlanningActivitiesWithBestFriend', 'PlanningTogetherWithCrush', 'PodcastRecommendation', 'ProposingNewIdeaToBoss', 'ProvidingFeedbackToAssistant', 'ReconnectingWithBrother', 'ReconnectingWithDad', 'ReconnectingWithFriend', 'ReconnectingWithMom', 'ReconnectingWithSister', 'ReminiscingWithBestFriend', 'RequestStudyResources', 'RequestingSupportFromBoss', 'RequestingTaskFromAssistant', 'RestaurantRecommendation', 'SeekingFeedbackFromBoss', 'SetStudyGoals', 'SettingFitnessGoals', 'SharingExcitingNewsWithBestFriend', 'SharingSuccessWithBoss', 'StartStudySession', 'StartingConversationWithCrush', 'StayingMotivatedInFitness', 'StudyBreakRequest', 'StudyGroupJoinRequest', 'StudyMotivation', 'SupportingBestFriend', 'TalkingToBoss', 'TalkingToBrother', 'TalkingToDad', 'TalkingToMom', 'TalkingToSister', 'TravelDestinationRecommendation', 'about_talk_ai', 'art_of_apology', 'communication_benefits', 'communication_skills', 'conflict_resolution', 'conversation_starters', 'creative_expression', 'creativity_boost', 'cultural_sensitivity', 'dating_advice', 'effective_feedback', 'empathetic_listening', 'family_communication', 'friendship_building', 'goal_setting', 'gratitude_practice', 'greeting', 'healthy_sleep_habits', 'hobbies_interests', 'hobby_discussions', 'how_are_you', 'impact_on_wellbeing', 'inspiration', 'language_learning', 'laughter_therapy', 'learning_opportunities', 'mindful_breathing', 'mindful_communication', 'mindful_eating', 'mindfulness_practices', 'motivational_support', 'overcoming_challenges', 'parenting_communication', 'personal_growth', 'personalized_recommendations', 'pet_communication', 'positive_affirmations', 'public_speaking_prep', 'reflective_practices', 'relationship_advice', 'self_discovery', 'social_anxiety_support', 'social_connection', 'stress_management', 'stress_reduction_techniques', 'stress_tracking', 'technology_etiquette', 'thank_you', 'time_management', 'travel_communication', 'user_profiles', 'work_life_balance', 'workplace_communication']\n",
            "362 unique lemmatized words [\"'m\", \"'s\", ',', '.', '[', ']', 'a', 'about', 'achieve', 'achieved', 'achievement', 'achieving', 'acquisition', 'activity', 'advice', 'affirmation', 'after', 'ai', 'am', 'and', 'animal', 'anxiety', 'anyone', 'apologize', 'apologizing', 'apology', 'appreciate', 'are', 'art', 'assessment', 'assistant', 'at', 'awareness', 'balance', 'begin', 'benefit', 'best', 'better', 'book', 'boost', 'bos', 'break', 'breaking', 'breath', 'breathing', 'brother', 'build', 'can', 'challenge', 'chatbot', 'check', 'checking', 'cheer', 'cheering', 'child', 'choose', 'combining', 'communicate', 'communicating', 'communication', 'compliment', 'complimenting', 'conflict', 'congratulate', 'congratulating', 'connect', 'connecting', 'connection', 'conscious', 'constructive', 'consumption', 'continuous', 'conversation', 'cook', 'cooking', 'creative', 'creatively', 'creativity', 'crush', 'cultural', 'customization', 'dad', 'daily', 'date', 'dating', 'day', 'dealing', 'destination', 'development', 'digital', 'dinner', 'discover', 'discussion', 'diverse', 'do', 'doe', 'doing', 'done', 'down', 'during', 'eat', 'eating', 'effective', 'empathetic', 'empathy', 'encourage', 'end', 'enhance', 'establish', 'etiquette', 'exciting', 'exercise', 'expand', 'explore', 'express', 'expressing', 'expression', 'facing', 'family', 'feedback', 'feeling', 'find', 'fitness', 'food', 'for', 'friend', 'friendship', 'fright', 'from', 'get', 'getting', 'give', 'go', 'goal', 'goal-setting', 'good', 'gratitude', 'great', 'greet', 'greeting', 'group', 'growth', 'habit', 'happiness', 'harmony', 'have', 'health', 'healthy', 'hello', 'help', 'her', 'hey', 'hi', 'him', 'his', 'hobby', 'hobby-related', 'how', 'i', 'idea', 'impact', 'improve', 'improving', 'in', 'incorporate', 'inspiration', 'inspirational', 'inspire', 'interaction', 'interest', 'into', 'is', 'join', 'journal', 'journey', 'joy', 'know', 'knowledge', 'language', 'laughter', 'learn', 'learning', 'let', 'level', 'life', 'listen', 'listening', 'living', 'local', 'maintain', 'maintaining', 'make', 'making', 'manage', 'management', 'master', 'material', 'me', 'mental', 'method', 'mindful', 'mindfulness', 'mindset', 'mistake', 'mom', 'monitoring', 'motivated', 'motivation', 'motivational', 'movie', 'music', 'my', 'myself', 'need', 'new', 'news', 'next', 'now', 'nutrition', 'objective', 'obstacle', 'of', 'offer', 'offering', 'on', 'online', 'opportunity', 'overcome', 'parent-child', 'parenting', 'personal', 'personalized', 'pet', 'plan', 'planning', 'plateau', 'please', 'podcast', 'positive', 'practice', 'prepare', 'problem', 'profile', 'progress', 'promote', 'propose', 'proposing', 'provide', 'providing', 'public', 'quality', 'question', 'quote', 'read', 'recipe', 'recommend', 'recommendation', 'reconnect', 'reconnecting', 'reduce', 'reduction', 'reflect', 'reflection', 'relationship', 'relaxation', 'relief', 'reminisce', 'reminiscing', 'request', 'requesting', 'resolution', 'resolve', 'resource', 'restaurant', 'review', 'right', 'routine', 'seek', 'seeking', 'selecting', 'self-awareness', 'self-discovery', 'self-talk', 'sensitivity', 'session', 'set', 'setback', 'setting', 'share', 'sharing', 'short', 'should', 'sister', 'skill', 'sleep', 'social', 'socialize', 'socially', 'some', 'something', 'speaking', 'stage', 'start', 'starter', 'starting', 'stay', 'stress', 'stronger', 'study', 'studying', 'subject', 'success', 'suggest', 'suggestion', 'support', 'take', 'talk', 'talking', 'target', 'task', 'teach', 'technique', 'technology', 'tell', 'thank', 'thanks', 'the', 'their', 'them', 'therapy', 'there', 'thought', 'through', 'time', 'tip', 'to', 'today', 'track', 'travel', 'trip', 'understanding', 'up', 'update', 'use', 'used', 'user', 'using', 'want', 'watch', 'well-being', 'what', 'where', 'who', 'with', 'within', 'work', 'work-life', 'workout', 'workplace', 'you', 'your', 'yourself']\n"
          ]
        }
      ],
      "source": [
        "# lemmatize, lower each word and remove duplicates\n",
        "words = [lemmatizer.lemmatize(w.lower()) for w in words if w not in ignore_words]\n",
        "words = sorted(list(set(words)))\n",
        "# sort classes\n",
        "classes = sorted(list(set(classes)))\n",
        "# documents = combination between patterns and intents\n",
        "print (len(documents), \"documents\")\n",
        "# classes = intents\n",
        "print (len(classes), \"classes\", classes)\n",
        "# words = all words, vocabulary\n",
        "print (len(words), \"unique lemmatized words\", words)\n",
        "\n",
        "pickle.dump(words,open('words.pkl','wb'))\n",
        "pickle.dump(classes,open('classes.pkl','wb'))"
      ]
    },
    {
      "cell_type": "markdown",
      "metadata": {
        "id": "XMVRAz1capSH"
      },
      "source": [
        "## Create training and testing data"
      ]
    },
    {
      "cell_type": "code",
      "execution_count": null,
      "metadata": {
        "colab": {
          "base_uri": "https://localhost:8080/"
        },
        "id": "VLvqhiIiapSI",
        "outputId": "70aa5bf9-fc46-413c-93db-e48e054de993"
      },
      "outputs": [
        {
          "output_type": "stream",
          "name": "stdout",
          "text": [
            "Training data created\n"
          ]
        },
        {
          "output_type": "stream",
          "name": "stderr",
          "text": [
            "<ipython-input-4-451aefdaa425>:24: VisibleDeprecationWarning: Creating an ndarray from ragged nested sequences (which is a list-or-tuple of lists-or-tuples-or ndarrays with different lengths or shapes) is deprecated. If you meant to do this, you must specify 'dtype=object' when creating the ndarray.\n",
            "  training = np.array(training)\n"
          ]
        }
      ],
      "source": [
        "\n",
        "# create our training data\n",
        "training = []\n",
        "# create an empty array for our output\n",
        "output_empty = [0] * len(classes)\n",
        "# training set, bag of words for each sentence\n",
        "for doc in documents:\n",
        "    # initialize our bag of words\n",
        "    bag = []\n",
        "    # list of tokenized words for the pattern\n",
        "    pattern_words = doc[0]\n",
        "    # lemmatize each word - create base word, in attempt to represent related words\n",
        "    pattern_words = [lemmatizer.lemmatize(word.lower()) for word in pattern_words]\n",
        "    # create our bag of words array with 1, if word match found in current pattern\n",
        "    for w in words:\n",
        "        bag.append(1) if w in pattern_words else bag.append(0)\n",
        "\n",
        "    # output is a '0' for each tag and '1' for current tag (for each pattern)\n",
        "    output_row = list(output_empty)\n",
        "    output_row[classes.index(doc[1])] = 1\n",
        "\n",
        "    training.append([bag, output_row])\n",
        "# shuffle our features and turn into np.array\n",
        "random.shuffle(training)\n",
        "training = np.array(training)\n",
        "# create train and test lists. X - patterns, Y - intents\n",
        "train_x = list(training[:,0])\n",
        "train_y = list(training[:,1])\n",
        "print(\"Training data created\")"
      ]
    },
    {
      "cell_type": "markdown",
      "metadata": {
        "id": "RZVrMNdkapSJ"
      },
      "source": [
        "## Create Model"
      ]
    },
    {
      "cell_type": "code",
      "execution_count": null,
      "metadata": {
        "colab": {
          "base_uri": "https://localhost:8080/"
        },
        "id": "yjl6plKhapSL",
        "outputId": "d428a2e2-a9db-4394-df3a-c1362c1bc490"
      },
      "outputs": [
        {
          "output_type": "stream",
          "name": "stdout",
          "text": [
            "Epoch 1/200\n",
            "63/63 [==============================] - 1s 2ms/step - loss: 4.8221 - accuracy: 0.0063\n",
            "Epoch 2/200\n",
            "63/63 [==============================] - 0s 2ms/step - loss: 4.7962 - accuracy: 0.0127\n",
            "Epoch 3/200\n",
            "63/63 [==============================] - 0s 2ms/step - loss: 4.7605 - accuracy: 0.0413\n",
            "Epoch 4/200\n",
            "63/63 [==============================] - 0s 3ms/step - loss: 4.7457 - accuracy: 0.0286\n",
            "Epoch 5/200\n",
            "63/63 [==============================] - 0s 3ms/step - loss: 4.7032 - accuracy: 0.0349\n",
            "Epoch 6/200\n",
            "63/63 [==============================] - 0s 3ms/step - loss: 4.6578 - accuracy: 0.0349\n",
            "Epoch 7/200\n",
            "63/63 [==============================] - 0s 2ms/step - loss: 4.5665 - accuracy: 0.0413\n",
            "Epoch 8/200\n",
            "63/63 [==============================] - 0s 3ms/step - loss: 4.4923 - accuracy: 0.0476\n",
            "Epoch 9/200\n",
            "63/63 [==============================] - 0s 3ms/step - loss: 4.4350 - accuracy: 0.0349\n",
            "Epoch 10/200\n",
            "63/63 [==============================] - 0s 3ms/step - loss: 4.3383 - accuracy: 0.0540\n",
            "Epoch 11/200\n",
            "63/63 [==============================] - 0s 3ms/step - loss: 4.2134 - accuracy: 0.0476\n",
            "Epoch 12/200\n",
            "63/63 [==============================] - 0s 3ms/step - loss: 4.0693 - accuracy: 0.0571\n",
            "Epoch 13/200\n",
            "63/63 [==============================] - 0s 3ms/step - loss: 3.9871 - accuracy: 0.0984\n",
            "Epoch 14/200\n",
            "63/63 [==============================] - 0s 3ms/step - loss: 3.8771 - accuracy: 0.0794\n",
            "Epoch 15/200\n",
            "63/63 [==============================] - 0s 3ms/step - loss: 3.7677 - accuracy: 0.1238\n",
            "Epoch 16/200\n",
            "63/63 [==============================] - 0s 3ms/step - loss: 3.5749 - accuracy: 0.1333\n",
            "Epoch 17/200\n",
            "63/63 [==============================] - 0s 2ms/step - loss: 3.5373 - accuracy: 0.1397\n",
            "Epoch 18/200\n",
            "63/63 [==============================] - 0s 2ms/step - loss: 3.3005 - accuracy: 0.2032\n",
            "Epoch 19/200\n",
            "63/63 [==============================] - 0s 2ms/step - loss: 3.1783 - accuracy: 0.2032\n",
            "Epoch 20/200\n",
            "63/63 [==============================] - 0s 2ms/step - loss: 3.0315 - accuracy: 0.2254\n",
            "Epoch 21/200\n",
            "63/63 [==============================] - 0s 2ms/step - loss: 3.0611 - accuracy: 0.2349\n",
            "Epoch 22/200\n",
            "63/63 [==============================] - 0s 2ms/step - loss: 2.8835 - accuracy: 0.2317\n",
            "Epoch 23/200\n",
            "63/63 [==============================] - 0s 2ms/step - loss: 2.7389 - accuracy: 0.2921\n",
            "Epoch 24/200\n",
            "63/63 [==============================] - 0s 2ms/step - loss: 2.6007 - accuracy: 0.2952\n",
            "Epoch 25/200\n",
            "63/63 [==============================] - 0s 2ms/step - loss: 2.4233 - accuracy: 0.3429\n",
            "Epoch 26/200\n",
            "63/63 [==============================] - 0s 2ms/step - loss: 2.4117 - accuracy: 0.3397\n",
            "Epoch 27/200\n",
            "63/63 [==============================] - 0s 2ms/step - loss: 2.2237 - accuracy: 0.4032\n",
            "Epoch 28/200\n",
            "63/63 [==============================] - 0s 2ms/step - loss: 2.3034 - accuracy: 0.4032\n",
            "Epoch 29/200\n",
            "63/63 [==============================] - 0s 2ms/step - loss: 2.1769 - accuracy: 0.3905\n",
            "Epoch 30/200\n",
            "63/63 [==============================] - 0s 2ms/step - loss: 2.0535 - accuracy: 0.4095\n",
            "Epoch 31/200\n",
            "63/63 [==============================] - 0s 2ms/step - loss: 1.9572 - accuracy: 0.4349\n",
            "Epoch 32/200\n",
            "63/63 [==============================] - 0s 2ms/step - loss: 1.9870 - accuracy: 0.4286\n",
            "Epoch 33/200\n",
            "63/63 [==============================] - 0s 2ms/step - loss: 1.8413 - accuracy: 0.4794\n",
            "Epoch 34/200\n",
            "63/63 [==============================] - 0s 3ms/step - loss: 1.7329 - accuracy: 0.5079\n",
            "Epoch 35/200\n",
            "63/63 [==============================] - 0s 2ms/step - loss: 1.7795 - accuracy: 0.4952\n",
            "Epoch 36/200\n",
            "63/63 [==============================] - 0s 2ms/step - loss: 1.6697 - accuracy: 0.5365\n",
            "Epoch 37/200\n",
            "63/63 [==============================] - 0s 2ms/step - loss: 1.7721 - accuracy: 0.5238\n",
            "Epoch 38/200\n",
            "63/63 [==============================] - 0s 2ms/step - loss: 1.7348 - accuracy: 0.4952\n",
            "Epoch 39/200\n",
            "63/63 [==============================] - 0s 2ms/step - loss: 1.6548 - accuracy: 0.5206\n",
            "Epoch 40/200\n",
            "63/63 [==============================] - 0s 2ms/step - loss: 1.6521 - accuracy: 0.5048\n",
            "Epoch 41/200\n",
            "63/63 [==============================] - 0s 2ms/step - loss: 1.5942 - accuracy: 0.5556\n",
            "Epoch 42/200\n",
            "63/63 [==============================] - 0s 2ms/step - loss: 1.5089 - accuracy: 0.5619\n",
            "Epoch 43/200\n",
            "63/63 [==============================] - 0s 2ms/step - loss: 1.3829 - accuracy: 0.6063\n",
            "Epoch 44/200\n",
            "63/63 [==============================] - 0s 2ms/step - loss: 1.3088 - accuracy: 0.6349\n",
            "Epoch 45/200\n",
            "63/63 [==============================] - 0s 2ms/step - loss: 1.5079 - accuracy: 0.5460\n",
            "Epoch 46/200\n",
            "63/63 [==============================] - 0s 2ms/step - loss: 1.4436 - accuracy: 0.5556\n",
            "Epoch 47/200\n",
            "63/63 [==============================] - 0s 2ms/step - loss: 1.5336 - accuracy: 0.5524\n",
            "Epoch 48/200\n",
            "63/63 [==============================] - 0s 2ms/step - loss: 1.4788 - accuracy: 0.5778\n",
            "Epoch 49/200\n",
            "63/63 [==============================] - 0s 2ms/step - loss: 1.2603 - accuracy: 0.6032\n",
            "Epoch 50/200\n",
            "63/63 [==============================] - 0s 2ms/step - loss: 1.4136 - accuracy: 0.5905\n",
            "Epoch 51/200\n",
            "63/63 [==============================] - 0s 2ms/step - loss: 1.3253 - accuracy: 0.6000\n",
            "Epoch 52/200\n",
            "63/63 [==============================] - 0s 2ms/step - loss: 1.3000 - accuracy: 0.6190\n",
            "Epoch 53/200\n",
            "63/63 [==============================] - 0s 2ms/step - loss: 1.2560 - accuracy: 0.5905\n",
            "Epoch 54/200\n",
            "63/63 [==============================] - 0s 2ms/step - loss: 1.2017 - accuracy: 0.6444\n",
            "Epoch 55/200\n",
            "63/63 [==============================] - 0s 2ms/step - loss: 1.3441 - accuracy: 0.5683\n",
            "Epoch 56/200\n",
            "63/63 [==============================] - 0s 2ms/step - loss: 1.1072 - accuracy: 0.6635\n",
            "Epoch 57/200\n",
            "63/63 [==============================] - 0s 2ms/step - loss: 1.2180 - accuracy: 0.6540\n",
            "Epoch 58/200\n",
            "63/63 [==============================] - 0s 2ms/step - loss: 1.1431 - accuracy: 0.6508\n",
            "Epoch 59/200\n",
            "63/63 [==============================] - 0s 2ms/step - loss: 1.2850 - accuracy: 0.6032\n",
            "Epoch 60/200\n",
            "63/63 [==============================] - 0s 2ms/step - loss: 1.0594 - accuracy: 0.6825\n",
            "Epoch 61/200\n",
            "63/63 [==============================] - 0s 2ms/step - loss: 1.1603 - accuracy: 0.6603\n",
            "Epoch 62/200\n",
            "63/63 [==============================] - 0s 2ms/step - loss: 1.1209 - accuracy: 0.6635\n",
            "Epoch 63/200\n",
            "63/63 [==============================] - 0s 2ms/step - loss: 1.1349 - accuracy: 0.6635\n",
            "Epoch 64/200\n",
            "63/63 [==============================] - 0s 2ms/step - loss: 1.1643 - accuracy: 0.6540\n",
            "Epoch 65/200\n",
            "63/63 [==============================] - 0s 2ms/step - loss: 1.1249 - accuracy: 0.6889\n",
            "Epoch 66/200\n",
            "63/63 [==============================] - 0s 2ms/step - loss: 1.0620 - accuracy: 0.6921\n",
            "Epoch 67/200\n",
            "63/63 [==============================] - 0s 2ms/step - loss: 1.0914 - accuracy: 0.6667\n",
            "Epoch 68/200\n",
            "63/63 [==============================] - 0s 2ms/step - loss: 0.9947 - accuracy: 0.7079\n",
            "Epoch 69/200\n",
            "63/63 [==============================] - 0s 2ms/step - loss: 1.0518 - accuracy: 0.7143\n",
            "Epoch 70/200\n",
            "63/63 [==============================] - 0s 2ms/step - loss: 1.0299 - accuracy: 0.6698\n",
            "Epoch 71/200\n",
            "63/63 [==============================] - 0s 2ms/step - loss: 1.0813 - accuracy: 0.6857\n",
            "Epoch 72/200\n",
            "63/63 [==============================] - 0s 2ms/step - loss: 1.1465 - accuracy: 0.6730\n",
            "Epoch 73/200\n",
            "63/63 [==============================] - 0s 2ms/step - loss: 0.9794 - accuracy: 0.7048\n",
            "Epoch 74/200\n",
            "63/63 [==============================] - 0s 2ms/step - loss: 1.0197 - accuracy: 0.7016\n",
            "Epoch 75/200\n",
            "63/63 [==============================] - 0s 2ms/step - loss: 0.9244 - accuracy: 0.7238\n",
            "Epoch 76/200\n",
            "63/63 [==============================] - 0s 2ms/step - loss: 0.8950 - accuracy: 0.7238\n",
            "Epoch 77/200\n",
            "63/63 [==============================] - 0s 2ms/step - loss: 0.9647 - accuracy: 0.7048\n",
            "Epoch 78/200\n",
            "63/63 [==============================] - 0s 2ms/step - loss: 1.1278 - accuracy: 0.6825\n",
            "Epoch 79/200\n",
            "63/63 [==============================] - 0s 2ms/step - loss: 0.9114 - accuracy: 0.7238\n",
            "Epoch 80/200\n",
            "63/63 [==============================] - 0s 2ms/step - loss: 1.1649 - accuracy: 0.6603\n",
            "Epoch 81/200\n",
            "63/63 [==============================] - 0s 2ms/step - loss: 1.0919 - accuracy: 0.6698\n",
            "Epoch 82/200\n",
            "63/63 [==============================] - 0s 2ms/step - loss: 0.9189 - accuracy: 0.7048\n",
            "Epoch 83/200\n",
            "63/63 [==============================] - 0s 2ms/step - loss: 0.9795 - accuracy: 0.7048\n",
            "Epoch 84/200\n",
            "63/63 [==============================] - 0s 2ms/step - loss: 1.0381 - accuracy: 0.7016\n",
            "Epoch 85/200\n",
            "63/63 [==============================] - 0s 2ms/step - loss: 0.8882 - accuracy: 0.7143\n",
            "Epoch 86/200\n",
            "63/63 [==============================] - 0s 2ms/step - loss: 0.7701 - accuracy: 0.7587\n",
            "Epoch 87/200\n",
            "63/63 [==============================] - 0s 2ms/step - loss: 0.9078 - accuracy: 0.7460\n",
            "Epoch 88/200\n",
            "63/63 [==============================] - 0s 2ms/step - loss: 0.9618 - accuracy: 0.7048\n",
            "Epoch 89/200\n",
            "63/63 [==============================] - 0s 2ms/step - loss: 1.0107 - accuracy: 0.7016\n",
            "Epoch 90/200\n",
            "63/63 [==============================] - 0s 2ms/step - loss: 0.9734 - accuracy: 0.7143\n",
            "Epoch 91/200\n",
            "63/63 [==============================] - 0s 2ms/step - loss: 0.7804 - accuracy: 0.7556\n",
            "Epoch 92/200\n",
            "63/63 [==============================] - 0s 2ms/step - loss: 1.1387 - accuracy: 0.6667\n",
            "Epoch 93/200\n",
            "63/63 [==============================] - 0s 2ms/step - loss: 0.9542 - accuracy: 0.7143\n",
            "Epoch 94/200\n",
            "63/63 [==============================] - 0s 2ms/step - loss: 1.0303 - accuracy: 0.6952\n",
            "Epoch 95/200\n",
            "63/63 [==============================] - 0s 3ms/step - loss: 0.9344 - accuracy: 0.7079\n",
            "Epoch 96/200\n",
            "63/63 [==============================] - 0s 3ms/step - loss: 0.8827 - accuracy: 0.7524\n",
            "Epoch 97/200\n",
            "63/63 [==============================] - 0s 3ms/step - loss: 0.8341 - accuracy: 0.7714\n",
            "Epoch 98/200\n",
            "63/63 [==============================] - 0s 3ms/step - loss: 1.0098 - accuracy: 0.7175\n",
            "Epoch 99/200\n",
            "63/63 [==============================] - 0s 3ms/step - loss: 0.9381 - accuracy: 0.7111\n",
            "Epoch 100/200\n",
            "63/63 [==============================] - 0s 3ms/step - loss: 0.8437 - accuracy: 0.7524\n",
            "Epoch 101/200\n",
            "63/63 [==============================] - 0s 2ms/step - loss: 0.9909 - accuracy: 0.7048\n",
            "Epoch 102/200\n",
            "63/63 [==============================] - 0s 3ms/step - loss: 0.8326 - accuracy: 0.7810\n",
            "Epoch 103/200\n",
            "63/63 [==============================] - 0s 3ms/step - loss: 0.8329 - accuracy: 0.7270\n",
            "Epoch 104/200\n",
            "63/63 [==============================] - 0s 3ms/step - loss: 0.7465 - accuracy: 0.7619\n",
            "Epoch 105/200\n",
            "63/63 [==============================] - 0s 3ms/step - loss: 0.9487 - accuracy: 0.6952\n",
            "Epoch 106/200\n",
            "63/63 [==============================] - 0s 3ms/step - loss: 0.9116 - accuracy: 0.7333\n",
            "Epoch 107/200\n",
            "63/63 [==============================] - 0s 3ms/step - loss: 0.8795 - accuracy: 0.7206\n",
            "Epoch 108/200\n",
            "63/63 [==============================] - 0s 2ms/step - loss: 0.8779 - accuracy: 0.7143\n",
            "Epoch 109/200\n",
            "63/63 [==============================] - 0s 2ms/step - loss: 0.8433 - accuracy: 0.7714\n",
            "Epoch 110/200\n",
            "63/63 [==============================] - 0s 2ms/step - loss: 0.8979 - accuracy: 0.7175\n",
            "Epoch 111/200\n",
            "63/63 [==============================] - 0s 2ms/step - loss: 0.9344 - accuracy: 0.7429\n",
            "Epoch 112/200\n",
            "63/63 [==============================] - 0s 2ms/step - loss: 1.0230 - accuracy: 0.6825\n",
            "Epoch 113/200\n",
            "63/63 [==============================] - 0s 2ms/step - loss: 0.9301 - accuracy: 0.7270\n",
            "Epoch 114/200\n",
            "63/63 [==============================] - 0s 2ms/step - loss: 0.9032 - accuracy: 0.7429\n",
            "Epoch 115/200\n",
            "63/63 [==============================] - 0s 2ms/step - loss: 0.7682 - accuracy: 0.8000\n",
            "Epoch 116/200\n",
            "63/63 [==============================] - 0s 2ms/step - loss: 0.8004 - accuracy: 0.7810\n",
            "Epoch 117/200\n",
            "63/63 [==============================] - 0s 2ms/step - loss: 0.9491 - accuracy: 0.7079\n",
            "Epoch 118/200\n",
            "63/63 [==============================] - 0s 2ms/step - loss: 0.8733 - accuracy: 0.7524\n",
            "Epoch 119/200\n",
            "63/63 [==============================] - 0s 2ms/step - loss: 0.8407 - accuracy: 0.7556\n",
            "Epoch 120/200\n",
            "63/63 [==============================] - 0s 2ms/step - loss: 0.9133 - accuracy: 0.7460\n",
            "Epoch 121/200\n",
            "63/63 [==============================] - 0s 2ms/step - loss: 0.8655 - accuracy: 0.7143\n",
            "Epoch 122/200\n",
            "63/63 [==============================] - 0s 2ms/step - loss: 0.8022 - accuracy: 0.7492\n",
            "Epoch 123/200\n",
            "63/63 [==============================] - 0s 2ms/step - loss: 0.8943 - accuracy: 0.7492\n",
            "Epoch 124/200\n",
            "63/63 [==============================] - 0s 2ms/step - loss: 0.7048 - accuracy: 0.7841\n",
            "Epoch 125/200\n",
            "63/63 [==============================] - 0s 2ms/step - loss: 0.7831 - accuracy: 0.7619\n",
            "Epoch 126/200\n",
            "63/63 [==============================] - 0s 2ms/step - loss: 0.6375 - accuracy: 0.8000\n",
            "Epoch 127/200\n",
            "63/63 [==============================] - 0s 2ms/step - loss: 0.8799 - accuracy: 0.7397\n",
            "Epoch 128/200\n",
            "63/63 [==============================] - 0s 2ms/step - loss: 0.9384 - accuracy: 0.7619\n",
            "Epoch 129/200\n",
            "63/63 [==============================] - 0s 2ms/step - loss: 0.8232 - accuracy: 0.7429\n",
            "Epoch 130/200\n",
            "63/63 [==============================] - 0s 2ms/step - loss: 0.9003 - accuracy: 0.7270\n",
            "Epoch 131/200\n",
            "63/63 [==============================] - 0s 2ms/step - loss: 0.8964 - accuracy: 0.7302\n",
            "Epoch 132/200\n",
            "63/63 [==============================] - 0s 2ms/step - loss: 0.8182 - accuracy: 0.7524\n",
            "Epoch 133/200\n",
            "63/63 [==============================] - 0s 2ms/step - loss: 0.8283 - accuracy: 0.7524\n",
            "Epoch 134/200\n",
            "63/63 [==============================] - 0s 2ms/step - loss: 0.7773 - accuracy: 0.7746\n",
            "Epoch 135/200\n",
            "63/63 [==============================] - 0s 2ms/step - loss: 0.8586 - accuracy: 0.7143\n",
            "Epoch 136/200\n",
            "63/63 [==============================] - 0s 2ms/step - loss: 0.7941 - accuracy: 0.7429\n",
            "Epoch 137/200\n",
            "63/63 [==============================] - 0s 2ms/step - loss: 0.8730 - accuracy: 0.7111\n",
            "Epoch 138/200\n",
            "63/63 [==============================] - 0s 2ms/step - loss: 0.8786 - accuracy: 0.7492\n",
            "Epoch 139/200\n",
            "63/63 [==============================] - 0s 2ms/step - loss: 0.8941 - accuracy: 0.7429\n",
            "Epoch 140/200\n",
            "63/63 [==============================] - 0s 2ms/step - loss: 0.7240 - accuracy: 0.7746\n",
            "Epoch 141/200\n",
            "63/63 [==============================] - 0s 2ms/step - loss: 0.8329 - accuracy: 0.7619\n",
            "Epoch 142/200\n",
            "63/63 [==============================] - 0s 2ms/step - loss: 0.9793 - accuracy: 0.7206\n",
            "Epoch 143/200\n",
            "63/63 [==============================] - 0s 2ms/step - loss: 0.7979 - accuracy: 0.7524\n",
            "Epoch 144/200\n",
            "63/63 [==============================] - 0s 2ms/step - loss: 0.9342 - accuracy: 0.6889\n",
            "Epoch 145/200\n",
            "63/63 [==============================] - 0s 2ms/step - loss: 0.7087 - accuracy: 0.7714\n",
            "Epoch 146/200\n",
            "63/63 [==============================] - 0s 2ms/step - loss: 0.7147 - accuracy: 0.8032\n",
            "Epoch 147/200\n",
            "63/63 [==============================] - 0s 3ms/step - loss: 0.7285 - accuracy: 0.7619\n",
            "Epoch 148/200\n",
            "63/63 [==============================] - 0s 2ms/step - loss: 0.7713 - accuracy: 0.7651\n",
            "Epoch 149/200\n",
            "63/63 [==============================] - 0s 2ms/step - loss: 0.8044 - accuracy: 0.7524\n",
            "Epoch 150/200\n",
            "63/63 [==============================] - 0s 2ms/step - loss: 0.8486 - accuracy: 0.7270\n",
            "Epoch 151/200\n",
            "63/63 [==============================] - 0s 2ms/step - loss: 0.8502 - accuracy: 0.7873\n",
            "Epoch 152/200\n",
            "63/63 [==============================] - 0s 2ms/step - loss: 0.8223 - accuracy: 0.7619\n",
            "Epoch 153/200\n",
            "63/63 [==============================] - 0s 2ms/step - loss: 0.8311 - accuracy: 0.7333\n",
            "Epoch 154/200\n",
            "63/63 [==============================] - 0s 2ms/step - loss: 0.7709 - accuracy: 0.7429\n",
            "Epoch 155/200\n",
            "63/63 [==============================] - 0s 2ms/step - loss: 0.9458 - accuracy: 0.7143\n",
            "Epoch 156/200\n",
            "63/63 [==============================] - 0s 2ms/step - loss: 0.7914 - accuracy: 0.7333\n",
            "Epoch 157/200\n",
            "63/63 [==============================] - 0s 2ms/step - loss: 0.9162 - accuracy: 0.7397\n",
            "Epoch 158/200\n",
            "63/63 [==============================] - 0s 2ms/step - loss: 0.9640 - accuracy: 0.7238\n",
            "Epoch 159/200\n",
            "63/63 [==============================] - 0s 2ms/step - loss: 0.8096 - accuracy: 0.7619\n",
            "Epoch 160/200\n",
            "63/63 [==============================] - 0s 2ms/step - loss: 0.7740 - accuracy: 0.7556\n",
            "Epoch 161/200\n",
            "63/63 [==============================] - 0s 2ms/step - loss: 0.8627 - accuracy: 0.7429\n",
            "Epoch 162/200\n",
            "63/63 [==============================] - 0s 2ms/step - loss: 1.0074 - accuracy: 0.7302\n",
            "Epoch 163/200\n",
            "63/63 [==============================] - 0s 2ms/step - loss: 0.9688 - accuracy: 0.7397\n",
            "Epoch 164/200\n",
            "63/63 [==============================] - 0s 2ms/step - loss: 0.8080 - accuracy: 0.7333\n",
            "Epoch 165/200\n",
            "63/63 [==============================] - 0s 2ms/step - loss: 0.9353 - accuracy: 0.7175\n",
            "Epoch 166/200\n",
            "63/63 [==============================] - 0s 2ms/step - loss: 0.8951 - accuracy: 0.7333\n",
            "Epoch 167/200\n",
            "63/63 [==============================] - 0s 2ms/step - loss: 0.7480 - accuracy: 0.7651\n",
            "Epoch 168/200\n",
            "63/63 [==============================] - 0s 2ms/step - loss: 0.8279 - accuracy: 0.7556\n",
            "Epoch 169/200\n",
            "63/63 [==============================] - 0s 2ms/step - loss: 0.8736 - accuracy: 0.7619\n",
            "Epoch 170/200\n",
            "63/63 [==============================] - 0s 2ms/step - loss: 0.9576 - accuracy: 0.7556\n",
            "Epoch 171/200\n",
            "63/63 [==============================] - 0s 2ms/step - loss: 0.9942 - accuracy: 0.7238\n",
            "Epoch 172/200\n",
            "63/63 [==============================] - 0s 2ms/step - loss: 0.6460 - accuracy: 0.8159\n",
            "Epoch 173/200\n",
            "63/63 [==============================] - 0s 2ms/step - loss: 0.6905 - accuracy: 0.7873\n",
            "Epoch 174/200\n",
            "63/63 [==============================] - 0s 2ms/step - loss: 0.7124 - accuracy: 0.7873\n",
            "Epoch 175/200\n",
            "63/63 [==============================] - 0s 2ms/step - loss: 0.6611 - accuracy: 0.7873\n",
            "Epoch 176/200\n",
            "63/63 [==============================] - 0s 2ms/step - loss: 0.6713 - accuracy: 0.8000\n",
            "Epoch 177/200\n",
            "63/63 [==============================] - 0s 2ms/step - loss: 0.7994 - accuracy: 0.7683\n",
            "Epoch 178/200\n",
            "63/63 [==============================] - 0s 2ms/step - loss: 0.7089 - accuracy: 0.7841\n",
            "Epoch 179/200\n",
            "63/63 [==============================] - 0s 2ms/step - loss: 0.8370 - accuracy: 0.7746\n",
            "Epoch 180/200\n",
            "63/63 [==============================] - 0s 2ms/step - loss: 0.8485 - accuracy: 0.7587\n",
            "Epoch 181/200\n",
            "63/63 [==============================] - 0s 3ms/step - loss: 0.8236 - accuracy: 0.7873\n",
            "Epoch 182/200\n",
            "63/63 [==============================] - 0s 3ms/step - loss: 0.7441 - accuracy: 0.7841\n",
            "Epoch 183/200\n",
            "63/63 [==============================] - 0s 3ms/step - loss: 0.9173 - accuracy: 0.7587\n",
            "Epoch 184/200\n",
            "63/63 [==============================] - 0s 3ms/step - loss: 0.9537 - accuracy: 0.7302\n",
            "Epoch 185/200\n",
            "63/63 [==============================] - 0s 3ms/step - loss: 0.7861 - accuracy: 0.7778\n",
            "Epoch 186/200\n",
            "63/63 [==============================] - 0s 3ms/step - loss: 0.8011 - accuracy: 0.7524\n",
            "Epoch 187/200\n",
            "63/63 [==============================] - 0s 3ms/step - loss: 0.9755 - accuracy: 0.7270\n",
            "Epoch 188/200\n",
            "63/63 [==============================] - 0s 2ms/step - loss: 0.8217 - accuracy: 0.7714\n",
            "Epoch 189/200\n",
            "63/63 [==============================] - 0s 3ms/step - loss: 0.8352 - accuracy: 0.7587\n",
            "Epoch 190/200\n",
            "63/63 [==============================] - 0s 2ms/step - loss: 0.8145 - accuracy: 0.7905\n",
            "Epoch 191/200\n",
            "63/63 [==============================] - 0s 2ms/step - loss: 0.6007 - accuracy: 0.8190\n",
            "Epoch 192/200\n",
            "63/63 [==============================] - 0s 3ms/step - loss: 0.7143 - accuracy: 0.7810\n",
            "Epoch 193/200\n",
            "63/63 [==============================] - 0s 3ms/step - loss: 0.7522 - accuracy: 0.7492\n",
            "Epoch 194/200\n",
            "63/63 [==============================] - 0s 3ms/step - loss: 0.9491 - accuracy: 0.7365\n",
            "Epoch 195/200\n",
            "63/63 [==============================] - 0s 3ms/step - loss: 0.7742 - accuracy: 0.7746\n",
            "Epoch 196/200\n",
            "63/63 [==============================] - 0s 2ms/step - loss: 0.9235 - accuracy: 0.7524\n",
            "Epoch 197/200\n",
            "63/63 [==============================] - 0s 2ms/step - loss: 0.7774 - accuracy: 0.7778\n",
            "Epoch 198/200\n",
            "63/63 [==============================] - 0s 2ms/step - loss: 0.8706 - accuracy: 0.7397\n",
            "Epoch 199/200\n",
            "63/63 [==============================] - 0s 2ms/step - loss: 0.9144 - accuracy: 0.7429\n",
            "Epoch 200/200\n",
            "63/63 [==============================] - 0s 2ms/step - loss: 0.9003 - accuracy: 0.7524\n",
            "Model created\n"
          ]
        },
        {
          "output_type": "stream",
          "name": "stderr",
          "text": [
            "/usr/local/lib/python3.10/dist-packages/keras/src/engine/training.py:3103: UserWarning: You are saving your model as an HDF5 file via `model.save()`. This file format is considered legacy. We recommend using instead the native Keras format, e.g. `model.save('my_model.keras')`.\n",
            "  saving_api.save_model(\n"
          ]
        }
      ],
      "source": [
        "# Importing necessary libraries\n",
        "import numpy as np\n",
        "from keras.models import Sequential\n",
        "from keras.layers import Dense, Activation, Dropout\n",
        "from keras.optimizers import SGD  # Importing SGD from keras.optimizers\n",
        "from tensorflow.keras.optimizers.legacy import SGD as legacy_SGD # Importing the legacy SGD from tensorflow.keras.optimizers.legacy\n",
        "\n",
        "# Create model - 3 layers. First layer 128 neurons, second layer 64 neurons, and 3rd output layer contains a number of neurons\n",
        "# equal to the number of intents to predict output intent with softmax\n",
        "model = Sequential()\n",
        "model.add(Dense(128, input_shape=(len(train_x[0]),), activation='relu'))\n",
        "model.add(Dropout(0.5))\n",
        "model.add(Dense(64, activation='relu'))\n",
        "model.add(Dropout(0.5))\n",
        "model.add(Dense(len(train_y[0]), activation='softmax'))\n",
        "\n",
        "# Compile model. Stochastic gradient descent with Nesterov accelerated gradient gives good results for this model\n",
        "sgd = legacy_SGD(learning_rate=0.01, decay=1e-6, momentum=0.9, nesterov=True) # Use the legacy SGD with the decay argument\n",
        "model.compile(loss='categorical_crossentropy', optimizer=sgd, metrics=['accuracy'])\n",
        "\n",
        "# Fitting and saving the model\n",
        "hist = model.fit(np.array(train_x), np.array(train_y), epochs=200, batch_size=5, verbose=1)\n",
        "model.save('chatbot_model.h5', hist)\n",
        "\n",
        "print(\"Model created\")\n"
      ]
    },
    {
      "cell_type": "code",
      "execution_count": null,
      "metadata": {
        "id": "8b-DHwu4apSM"
      },
      "outputs": [],
      "source": [
        "from keras.models import load_model\n",
        "model = load_model('chatbot_model.h5')\n",
        "import json\n",
        "import random\n",
        "intents = json.loads(open('intents.json').read())\n",
        "words = pickle.load(open('words.pkl','rb'))\n",
        "classes = pickle.load(open('classes.pkl','rb'))"
      ]
    },
    {
      "cell_type": "code",
      "execution_count": null,
      "metadata": {
        "id": "Z-mvCginapSN"
      },
      "outputs": [],
      "source": [
        "def clean_up_sentence(sentence):\n",
        "    # tokenize the pattern - split words into array\n",
        "    sentence_words = nltk.word_tokenize(sentence)\n",
        "    # stem each word - create short form for word\n",
        "    sentence_words = [lemmatizer.lemmatize(word.lower()) for word in sentence_words]\n",
        "    return sentence_words\n",
        "# return bag of words array: 0 or 1 for each word in the bag that exists in the sentence"
      ]
    },
    {
      "cell_type": "code",
      "execution_count": null,
      "metadata": {
        "id": "2E9gl_qEapSO"
      },
      "outputs": [],
      "source": [
        "def bow(sentence, words, show_details=True):\n",
        "    # tokenize the pattern\n",
        "    sentence_words = clean_up_sentence(sentence)\n",
        "    # bag of words - matrix of N words, vocabulary matrix\n",
        "    bag = [0]*len(words)\n",
        "    for s in sentence_words:\n",
        "        for i,w in enumerate(words):\n",
        "            if w == s:\n",
        "                # assign 1 if current word is in the vocabulary position\n",
        "                bag[i] = 1\n",
        "                if show_details:\n",
        "                    print (\"found in bag: %s\" % w)\n",
        "    return(np.array(bag))"
      ]
    },
    {
      "cell_type": "code",
      "execution_count": null,
      "metadata": {
        "id": "Wd4CSkSuapSO"
      },
      "outputs": [],
      "source": [
        "def predict_class(sentence, model):\n",
        "    # filter out predictions below a threshold\n",
        "    p = bow(sentence, words,show_details=False)\n",
        "    res = model.predict(np.array([p]))[0]\n",
        "    ERROR_THRESHOLD = 0.25\n",
        "    results = [[i,r] for i,r in enumerate(res) if r>ERROR_THRESHOLD]\n",
        "    # sort by strength of probability\n",
        "    results.sort(key=lambda x: x[1], reverse=True)\n",
        "    return_list = []\n",
        "    for r in results:\n",
        "        return_list.append({\"intent\": classes[r[0]], \"probability\": str(r[1])})\n",
        "    return return_list"
      ]
    },
    {
      "cell_type": "code",
      "execution_count": null,
      "metadata": {
        "id": "-Y0kXMdrapSP"
      },
      "outputs": [],
      "source": [
        "def getResponse(ints, intents_json):\n",
        "    tag = ints[0]['intent']\n",
        "    list_of_intents = intents_json['intents']\n",
        "    for i in list_of_intents:\n",
        "        if(i['tag']== tag):\n",
        "            result = random.choice(i['responses'])\n",
        "            break\n",
        "    return result"
      ]
    },
    {
      "cell_type": "code",
      "execution_count": null,
      "metadata": {
        "id": "9UNH_FikapSP"
      },
      "outputs": [],
      "source": [
        "def chatbot_response(text):\n",
        "    ints = predict_class(text, model)\n",
        "    res = getResponse(ints, intents)\n",
        "    return res"
      ]
    },
    {
      "cell_type": "markdown",
      "metadata": {
        "id": "EHjNkYLMapSQ"
      },
      "source": [
        "## GUI Interface"
      ]
    },
    {
      "cell_type": "code",
      "execution_count": null,
      "metadata": {
        "colab": {
          "background_save": true,
          "base_uri": "https://localhost:8080/"
        },
        "id": "VGG7P_2CapSQ",
        "outputId": "3d76d1ad-8116-4772-b30e-bc2122332606"
      },
      "outputs": [
        {
          "output_type": "stream",
          "name": "stdout",
          "text": [
            "You: Hello\n",
            "1/1 [==============================] - 0s 98ms/step\n",
            "Bot: Hello! Welcome to TALK AI. How can I assist you today?\n",
            "You: Language acquisition tips\n",
            "1/1 [==============================] - 0s 20ms/step\n",
            "Bot: Conversations are a great way to learn a language. I can provide tips on using communication for language acquisition. Interested?\n",
            "You: Language acquisition tips\n",
            "1/1 [==============================] - 0s 22ms/step\n",
            "Bot: Language learning through communication is effective. Would you like guidance on incorporating language learning into conversations?\n",
            "You: Feedback communication tips\"\n",
            "1/1 [==============================] - 0s 21ms/step\n",
            "Bot: Constructive feedback is a valuable communication skill. Let me share tips on giving feedback that fosters growth and improvement.\n",
            "You: motivational talks\n",
            "1/1 [==============================] - 0s 22ms/step\n",
            "Bot: Feeling demotivated? I'm here to provide motivational support through communication. What areas do you need encouragement in?\n"
          ]
        }
      ],
      "source": [
        "def send():\n",
        "    try:\n",
        "        msg = input(\"You: \")\n",
        "        if msg.lower() == 'exit':\n",
        "            raise KeyboardInterrupt(\"User exited the chat\")\n",
        "\n",
        "        if msg != '':\n",
        "            res = chatbot_response(msg)\n",
        "            print(\"Bot:\", res)\n",
        "\n",
        "    except KeyboardInterrupt as e:\n",
        "        print(e)\n",
        "        exit()\n",
        "\n",
        "while True:\n",
        "    send()\n"
      ]
    },
    {
      "cell_type": "code",
      "execution_count": null,
      "metadata": {
        "id": "3HDQ7J0eapSR",
        "outputId": "9b60380a-2777-4b2a-a093-e3f1c9097b3f"
      },
      "outputs": [
        {
          "name": "stdout",
          "output_type": "stream",
          "text": [
            "1/1 [==============================] - 0s 58ms/step\n",
            "1/1 [==============================] - 0s 12ms/step\n",
            "1/1 [==============================] - 0s 11ms/step\n",
            "1/1 [==============================] - 0s 11ms/step\n",
            "1/1 [==============================] - 0s 12ms/step\n"
          ]
        }
      ],
      "source": [
        "base.mainloop()"
      ]
    }
  ],
  "metadata": {
    "colab": {
      "provenance": []
    },
    "kernelspec": {
      "display_name": "Python 3 (ipykernel)",
      "language": "python",
      "name": "python3"
    },
    "language_info": {
      "codemirror_mode": {
        "name": "ipython",
        "version": 3
      },
      "file_extension": ".py",
      "mimetype": "text/x-python",
      "name": "python",
      "nbconvert_exporter": "python",
      "pygments_lexer": "ipython3",
      "version": "3.9.7"
    }
  },
  "nbformat": 4,
  "nbformat_minor": 0
}